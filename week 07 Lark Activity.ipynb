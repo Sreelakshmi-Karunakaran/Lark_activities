{
 "cells": [
  {
   "cell_type": "code",
   "execution_count": 1,
   "id": "dc1842db",
   "metadata": {},
   "outputs": [],
   "source": [
    "import numpy as np\n",
    "import pandas as pd\n",
    "import matplotlib.pyplot as plt\n",
    "import seaborn as sns\n",
    "import scipy.stats as stats"
   ]
  },
  {
   "cell_type": "code",
   "execution_count": 3,
   "id": "7972e426",
   "metadata": {},
   "outputs": [
    {
     "data": {
      "text/html": [
       "<div>\n",
       "<style scoped>\n",
       "    .dataframe tbody tr th:only-of-type {\n",
       "        vertical-align: middle;\n",
       "    }\n",
       "\n",
       "    .dataframe tbody tr th {\n",
       "        vertical-align: top;\n",
       "    }\n",
       "\n",
       "    .dataframe thead th {\n",
       "        text-align: right;\n",
       "    }\n",
       "</style>\n",
       "<table border=\"1\" class=\"dataframe\">\n",
       "  <thead>\n",
       "    <tr style=\"text-align: right;\">\n",
       "      <th></th>\n",
       "      <th>Gender</th>\n",
       "      <th>Test preparation</th>\n",
       "      <th>Total Marks</th>\n",
       "    </tr>\n",
       "  </thead>\n",
       "  <tbody>\n",
       "    <tr>\n",
       "      <th>0</th>\n",
       "      <td>male</td>\n",
       "      <td>none</td>\n",
       "      <td>14</td>\n",
       "    </tr>\n",
       "    <tr>\n",
       "      <th>1</th>\n",
       "      <td>female</td>\n",
       "      <td>none</td>\n",
       "      <td>28</td>\n",
       "    </tr>\n",
       "    <tr>\n",
       "      <th>2</th>\n",
       "      <td>female</td>\n",
       "      <td>none</td>\n",
       "      <td>18</td>\n",
       "    </tr>\n",
       "    <tr>\n",
       "      <th>3</th>\n",
       "      <td>female</td>\n",
       "      <td>none</td>\n",
       "      <td>48</td>\n",
       "    </tr>\n",
       "    <tr>\n",
       "      <th>4</th>\n",
       "      <td>female</td>\n",
       "      <td>none</td>\n",
       "      <td>21</td>\n",
       "    </tr>\n",
       "  </tbody>\n",
       "</table>\n",
       "</div>"
      ],
      "text/plain": [
       "   Gender Test preparation  Total Marks\n",
       "0    male             none           14\n",
       "1  female             none           28\n",
       "2  female             none           18\n",
       "3  female             none           48\n",
       "4  female             none           21"
      ]
     },
     "execution_count": 3,
     "metadata": {},
     "output_type": "execute_result"
    }
   ],
   "source": [
    "df=pd.read_csv(\"C:/Users/sreel/Downloads/dataset w7.csv\")\n",
    "df.head()"
   ]
  },
  {
   "cell_type": "code",
   "execution_count": 4,
   "id": "f24f1834",
   "metadata": {},
   "outputs": [
    {
     "name": "stdout",
     "output_type": "stream",
     "text": [
      "<class 'pandas.core.frame.DataFrame'>\n",
      "RangeIndex: 28 entries, 0 to 27\n",
      "Data columns (total 3 columns):\n",
      " #   Column            Non-Null Count  Dtype \n",
      "---  ------            --------------  ----- \n",
      " 0   Gender            28 non-null     object\n",
      " 1   Test preparation  28 non-null     object\n",
      " 2   Total Marks       28 non-null     int64 \n",
      "dtypes: int64(1), object(2)\n",
      "memory usage: 800.0+ bytes\n"
     ]
    }
   ],
   "source": [
    "df.info()"
   ]
  },
  {
   "cell_type": "markdown",
   "id": "d5012784",
   "metadata": {},
   "source": [
    "# 1. Descriptive Analysis of the given data"
   ]
  },
  {
   "cell_type": "code",
   "execution_count": 6,
   "id": "ecb515c2",
   "metadata": {},
   "outputs": [
    {
     "data": {
      "text/html": [
       "<div>\n",
       "<style scoped>\n",
       "    .dataframe tbody tr th:only-of-type {\n",
       "        vertical-align: middle;\n",
       "    }\n",
       "\n",
       "    .dataframe tbody tr th {\n",
       "        vertical-align: top;\n",
       "    }\n",
       "\n",
       "    .dataframe thead th {\n",
       "        text-align: right;\n",
       "    }\n",
       "</style>\n",
       "<table border=\"1\" class=\"dataframe\">\n",
       "  <thead>\n",
       "    <tr style=\"text-align: right;\">\n",
       "      <th></th>\n",
       "      <th>Total Marks</th>\n",
       "    </tr>\n",
       "  </thead>\n",
       "  <tbody>\n",
       "    <tr>\n",
       "      <th>count</th>\n",
       "      <td>28.000000</td>\n",
       "    </tr>\n",
       "    <tr>\n",
       "      <th>mean</th>\n",
       "      <td>32.321429</td>\n",
       "    </tr>\n",
       "    <tr>\n",
       "      <th>std</th>\n",
       "      <td>12.454520</td>\n",
       "    </tr>\n",
       "    <tr>\n",
       "      <th>min</th>\n",
       "      <td>12.000000</td>\n",
       "    </tr>\n",
       "    <tr>\n",
       "      <th>25%</th>\n",
       "      <td>22.500000</td>\n",
       "    </tr>\n",
       "    <tr>\n",
       "      <th>50%</th>\n",
       "      <td>33.000000</td>\n",
       "    </tr>\n",
       "    <tr>\n",
       "      <th>75%</th>\n",
       "      <td>43.250000</td>\n",
       "    </tr>\n",
       "    <tr>\n",
       "      <th>max</th>\n",
       "      <td>50.000000</td>\n",
       "    </tr>\n",
       "  </tbody>\n",
       "</table>\n",
       "</div>"
      ],
      "text/plain": [
       "       Total Marks\n",
       "count    28.000000\n",
       "mean     32.321429\n",
       "std      12.454520\n",
       "min      12.000000\n",
       "25%      22.500000\n",
       "50%      33.000000\n",
       "75%      43.250000\n",
       "max      50.000000"
      ]
     },
     "execution_count": 6,
     "metadata": {},
     "output_type": "execute_result"
    }
   ],
   "source": [
    "df.describe()"
   ]
  },
  {
   "cell_type": "markdown",
   "id": "499bf34a",
   "metadata": {},
   "source": [
    "# 2. To check whether female and male students scored the same marks"
   ]
  },
  {
   "cell_type": "code",
   "execution_count": 8,
   "id": "5c57a0d2",
   "metadata": {},
   "outputs": [],
   "source": [
    "male=df.loc[df['Gender']=='male']\n",
    "female=df.loc[df['Gender']=='female']"
   ]
  },
  {
   "cell_type": "markdown",
   "id": "7fd306e6",
   "metadata": {},
   "source": [
    "Hypothesis\n",
    "\n",
    "null_hypothesis: marks scored by male and female students are NOT same.\n",
    "\n",
    "alternative_hypothesis: marks scored by male and female students are same."
   ]
  },
  {
   "cell_type": "code",
   "execution_count": 9,
   "id": "50fc69d7",
   "metadata": {},
   "outputs": [
    {
     "data": {
      "text/plain": [
       "26"
      ]
     },
     "execution_count": 9,
     "metadata": {},
     "output_type": "execute_result"
    }
   ],
   "source": [
    "#degrees of freedom:\n",
    "dof = (len(male)-1)+(len(female)-1)\n",
    "dof"
   ]
  },
  {
   "cell_type": "markdown",
   "id": "c5a766fe",
   "metadata": {},
   "source": [
    "Level of significance = 5% = 0.05"
   ]
  },
  {
   "cell_type": "code",
   "execution_count": 12,
   "id": "4df3f933",
   "metadata": {},
   "outputs": [
    {
     "data": {
      "text/plain": [
       "2.055529438642871"
      ]
     },
     "execution_count": 12,
     "metadata": {},
     "output_type": "execute_result"
    }
   ],
   "source": [
    "# T critical value\n",
    "t_critic = stats.t.ppf(q=1-0.05/2, df=dof)\n",
    "t_critic"
   ]
  },
  {
   "cell_type": "code",
   "execution_count": 13,
   "id": "abc99cfa",
   "metadata": {},
   "outputs": [
    {
     "data": {
      "text/plain": [
       "(-0.6940885268848668, 0.4937822317960763)"
      ]
     },
     "execution_count": 13,
     "metadata": {},
     "output_type": "execute_result"
    }
   ],
   "source": [
    "# test statistics\n",
    "ttest,pval = stats.ttest_ind(male['Total Marks'],female['Total Marks'])\n",
    "ttest,pval"
   ]
  },
  {
   "cell_type": "code",
   "execution_count": 14,
   "id": "dc85aa0e",
   "metadata": {},
   "outputs": [
    {
     "name": "stdout",
     "output_type": "stream",
     "text": [
      "we are accepting null hypothesis\n"
     ]
    }
   ],
   "source": [
    "if (abs(ttest)>t_critic)&(pval<0.05):\n",
    "    print('We are rejecting null hypothesis')\n",
    "else:\n",
    "    print('we are accepting null hypothesis')"
   ]
  },
  {
   "cell_type": "code",
   "execution_count": null,
   "id": "6d434564",
   "metadata": {},
   "outputs": [],
   "source": [
    "Inference:\n",
    "The marks scored by male and female are NOT same"
   ]
  },
  {
   "cell_type": "markdown",
   "id": "169fd998",
   "metadata": {},
   "source": [
    "# 3. Whether test preparation helps the students?"
   ]
  },
  {
   "cell_type": "code",
   "execution_count": 16,
   "id": "1bfd49b6",
   "metadata": {},
   "outputs": [],
   "source": [
    "tp=df.loc[df['Test preparation']=='completed']\n",
    "ntp=df.loc[df['Test preparation']=='none']"
   ]
  },
  {
   "cell_type": "markdown",
   "id": "16322f4c",
   "metadata": {},
   "source": [
    "Hypothesis\n",
    "null_hypothesis: Test preparation does not help students. Mean score of students who completed and not completed test preparation are equal\n",
    "\n",
    "alternative_hypothesis: Test preparation do help students. Mean score of students who completed and not completed test preparation are not equal"
   ]
  },
  {
   "cell_type": "code",
   "execution_count": 17,
   "id": "594756b5",
   "metadata": {},
   "outputs": [
    {
     "data": {
      "text/plain": [
       "26"
      ]
     },
     "execution_count": 17,
     "metadata": {},
     "output_type": "execute_result"
    }
   ],
   "source": [
    "#degrees of freedom:\n",
    "dof = (len(tp)-1)+(len(ntp)-1)\n",
    "dof"
   ]
  },
  {
   "cell_type": "markdown",
   "id": "925637be",
   "metadata": {},
   "source": [
    "Level of significance = 5% = 0.05"
   ]
  },
  {
   "cell_type": "code",
   "execution_count": 18,
   "id": "77d4ba40",
   "metadata": {},
   "outputs": [
    {
     "data": {
      "text/plain": [
       "2.055529438642871"
      ]
     },
     "execution_count": 18,
     "metadata": {},
     "output_type": "execute_result"
    }
   ],
   "source": [
    "# T critical value\n",
    "t_critic = stats.t.ppf(q=1-0.05/2, df=dof)\n",
    "t_critic"
   ]
  },
  {
   "cell_type": "code",
   "execution_count": 19,
   "id": "8e5faec4",
   "metadata": {},
   "outputs": [
    {
     "data": {
      "text/plain": [
       "(3.6143637527769217, 0.0012671292457320106)"
      ]
     },
     "execution_count": 19,
     "metadata": {},
     "output_type": "execute_result"
    }
   ],
   "source": [
    "# test statistics\n",
    "ttest1,pval1 = stats.ttest_ind(tp['Total Marks'],ntp['Total Marks'])\n",
    "ttest1,pval1"
   ]
  },
  {
   "cell_type": "code",
   "execution_count": 20,
   "id": "7a70d3f7",
   "metadata": {},
   "outputs": [
    {
     "name": "stdout",
     "output_type": "stream",
     "text": [
      "We are rejecting null hypothesis\n"
     ]
    }
   ],
   "source": [
    "if (abs(ttest1)>t_critic)&(pval1<0.05):\n",
    "    print('We are rejecting null hypothesis')\n",
    "else:\n",
    "    print('we are accepting null hypothesis')"
   ]
  },
  {
   "cell_type": "markdown",
   "id": "bba48e10",
   "metadata": {},
   "source": [
    "Inference :\n",
    "Test preparation do help students"
   ]
  }
 ],
 "metadata": {
  "kernelspec": {
   "display_name": "Python 3 (ipykernel)",
   "language": "python",
   "name": "python3"
  },
  "language_info": {
   "codemirror_mode": {
    "name": "ipython",
    "version": 3
   },
   "file_extension": ".py",
   "mimetype": "text/x-python",
   "name": "python",
   "nbconvert_exporter": "python",
   "pygments_lexer": "ipython3",
   "version": "3.9.7"
  }
 },
 "nbformat": 4,
 "nbformat_minor": 5
}
